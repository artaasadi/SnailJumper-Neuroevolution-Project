{
 "cells": [
  {
   "cell_type": "code",
   "execution_count": 2,
   "metadata": {},
   "outputs": [],
   "source": [
    "import numpy as np\n",
    "import pandas as pd\n",
    "import matplotlib.pyplot as plt"
   ]
  },
  {
   "cell_type": "code",
   "execution_count": 16,
   "metadata": {},
   "outputs": [],
   "source": [
    "def make_plot(name):\n",
    "    data = pd.read_csv(name + \".csv\")\n",
    "    data= data.drop(\"Unnamed: 0\", axis=1)\n",
    "    data\n",
    "    ax= plt.gca()\n",
    "    data.plot(kind= 'line', y= 'avg', ax= ax)\n",
    "    data.plot(kind= 'line', y= 'max', color= 'red', ax= ax)\n",
    "    data.plot(kind= 'line', y= 'min', color= 'green', ax= ax)\n",
    "\n",
    "    plt.show()"
   ]
  },
  {
   "cell_type": "code",
   "execution_count": null,
   "metadata": {},
   "outputs": [],
   "source": [
    "make_plot('accuracy_24144149')"
   ]
  }
 ],
 "metadata": {
  "interpreter": {
   "hash": "e37ce02851d16c98e55839d25b92e6739e004b66aacac1414dfd3a6090bc3fdf"
  },
  "kernelspec": {
   "display_name": "Python 3.9.10 64-bit ('venv': venv)",
   "language": "python",
   "name": "python3"
  },
  "language_info": {
   "name": "python",
   "version": "3.9.10"
  },
  "orig_nbformat": 4
 },
 "nbformat": 4,
 "nbformat_minor": 2
}
